{
 "cells": [
  {
   "cell_type": "code",
   "execution_count": 2,
   "id": "20657f0c-0f91-4d37-986b-4169bc550b6e",
   "metadata": {},
   "outputs": [],
   "source": [
    "#Transpose\n",
    "\n",
    "def matrix_transpose(matrix):\n",
    "    rows = len(matrix)\n",
    "    cols = len(matrix[0])\n",
    "    transpose = [[0] * rows for _ in range(cols)]\n",
    "    \n",
    "    for i in range(rows):\n",
    "        for j in range(cols):\n",
    "            transpose[j][i] = matrix[i][j]\n",
    "    \n",
    "    return transpose"
   ]
  },
  {
   "cell_type": "code",
   "execution_count": 3,
   "id": "84ffd743-a646-4e71-badc-68dd2cf3a2a6",
   "metadata": {},
   "outputs": [],
   "source": [
    "matrix = [\n",
    "    [1, 2, 3],\n",
    "    [4, 5, 6],\n",
    "    [7, 8, 9]\n",
    "]"
   ]
  },
  {
   "cell_type": "code",
   "execution_count": 4,
   "id": "0def730c-09fc-4ec7-a3ea-0c5bf1249ee4",
   "metadata": {},
   "outputs": [
    {
     "name": "stdout",
     "output_type": "stream",
     "text": [
      "Transposed Matrix:\n",
      "[1, 4, 7]\n",
      "[2, 5, 8]\n",
      "[3, 6, 9]\n"
     ]
    }
   ],
   "source": [
    "transposed = matrix_transpose(matrix)\n",
    "\n",
    "print(\"Transposed Matrix:\")\n",
    "for row in transposed:\n",
    "    print(row)"
   ]
  },
  {
   "cell_type": "code",
   "execution_count": 5,
   "id": "7b30e40e-02fb-430b-8a50-4d7ebb72ab9e",
   "metadata": {},
   "outputs": [],
   "source": [
    "def matrix_inverse(matrix):\n",
    "    n = len(matrix)\n",
    "    \n",
    "    # Create an augmented matrix [A | I]\n",
    "    augmented = [row[:] + [0 if i != j else 1 for j in range(n)] for i, row in enumerate(matrix)]\n",
    "    \n",
    "    # Perform Gauss-Jordan Elimination\n",
    "    for i in range(n):\n",
    "        # Make the diagonal element 1\n",
    "        if augmented[i][i] == 0:  # Swap rows if the diagonal is zero\n",
    "            for k in range(i + 1, n):\n",
    "                if augmented[k][i] != 0:\n",
    "                    augmented[i], augmented[k] = augmented[k], augmented[i]\n",
    "                    break\n",
    "            else:\n",
    "                raise ValueError(\"Matrix is singular and cannot be inverted.\")\n",
    "        \n",
    "        diag_element = augmented[i][i]\n",
    "        for j in range(2 * n):\n",
    "            augmented[i][j] /= diag_element\n",
    "        \n",
    "        # Make all other elements in column i zero\n",
    "        for k in range(n):\n",
    "            if k != i:\n",
    "                factor = augmented[k][i]\n",
    "                for j in range(2 * n):\n",
    "                    augmented[k][j] -= factor * augmented[i][j]\n",
    "    \n",
    "    # Extract the inverse matrix from the augmented matrix\n",
    "    inverse = [row[n:] for row in augmented]\n",
    "    return inverse"
   ]
  },
  {
   "cell_type": "code",
   "execution_count": 6,
   "id": "46173d00-920b-42e3-9053-b18e06be6bc8",
   "metadata": {},
   "outputs": [],
   "source": [
    "# Example Usage\n",
    "matrix = [\n",
    "    [4, 7],\n",
    "    [2, 6]\n",
    "]"
   ]
  },
  {
   "cell_type": "code",
   "execution_count": 7,
   "id": "6a2bb93d-df09-4eef-9992-af30731f339c",
   "metadata": {},
   "outputs": [
    {
     "name": "stdout",
     "output_type": "stream",
     "text": [
      "Inverse Matrix:\n",
      "[0.6000000000000001, -0.7000000000000001]\n",
      "[-0.2, 0.4]\n"
     ]
    }
   ],
   "source": [
    "try:\n",
    "    inverse = matrix_inverse(matrix)\n",
    "    print(\"Inverse Matrix:\")\n",
    "    for row in inverse:\n",
    "        print(row)\n",
    "except ValueError as e:\n",
    "    print(e)"
   ]
  },
  {
   "cell_type": "code",
   "execution_count": null,
   "id": "a1897d13-4c1d-4c2c-a203-90692ca2dad8",
   "metadata": {},
   "outputs": [],
   "source": []
  }
 ],
 "metadata": {
  "kernelspec": {
   "display_name": "Python 3 (ipykernel)",
   "language": "python",
   "name": "python3"
  },
  "language_info": {
   "codemirror_mode": {
    "name": "ipython",
    "version": 3
   },
   "file_extension": ".py",
   "mimetype": "text/x-python",
   "name": "python",
   "nbconvert_exporter": "python",
   "pygments_lexer": "ipython3",
   "version": "3.10.12"
  }
 },
 "nbformat": 4,
 "nbformat_minor": 5
}
