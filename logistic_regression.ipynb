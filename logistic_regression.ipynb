{
 "cells": [
  {
   "cell_type": "markdown",
   "id": "18926fd4-0960-472f-b301-b90cb73e4dac",
   "metadata": {},
   "source": [
    "## **1. Loading Dataset**"
   ]
  },
  {
   "cell_type": "code",
   "execution_count": 20,
   "id": "4486f316-f89d-4fe6-8c22-04a3ba04694b",
   "metadata": {},
   "outputs": [],
   "source": [
    "import pandas as pd\n",
    "import numpy as np\n",
    "import matplotlib.pyplot as plt\n",
    "import pickle\n",
    "from tqdm import tqdm"
   ]
  },
  {
   "cell_type": "code",
   "execution_count": 27,
   "id": "864cae38-a527-4026-8599-49cadf76a941",
   "metadata": {},
   "outputs": [],
   "source": [
    "# train_data = pd.read_csv('data/train.csv')\n",
    "# test_data = pd.read_csv('data/test.csv')\n",
    "\n",
    "train_data = pd.read_pickle(\"data/train.pkl\")\n",
    "test_data = pd.read_pickle(\"data/test.pkl\")"
   ]
  },
  {
   "cell_type": "code",
   "execution_count": 28,
   "id": "702bf86e-9b7b-4cf1-8b00-5d3a600f0a3b",
   "metadata": {},
   "outputs": [],
   "source": [
    "X_train = np.vstack(train_data['data'].values)\n",
    "y_train = train_data['labels'].values\n",
    "\n",
    "X_test = np.vstack(test_data['data'].values)\n",
    "y_test = test_data['labels'].values"
   ]
  },
  {
   "cell_type": "code",
   "execution_count": 29,
   "id": "983d27f3-750f-40cc-b8b1-b452eff474b1",
   "metadata": {},
   "outputs": [],
   "source": [
    "X_train = X_train / 255.0\n",
    "X_test = X_test  / 255.0"
   ]
  },
  {
   "cell_type": "code",
   "execution_count": 31,
   "id": "5673ed37-57c8-4c9f-9452-f563e2bbdb61",
   "metadata": {},
   "outputs": [],
   "source": [
    "# Adding bias term to X\n",
    "X_train = np.c_[np.ones((X_train.shape[0], 1)), X_train]\n",
    "X_test = np.c_[np.ones((X_test.shape[0], 1)), X_test]"
   ]
  },
  {
   "cell_type": "code",
   "execution_count": 32,
   "id": "dfc1afeb-0c48-4dce-b560-eb88a268064c",
   "metadata": {},
   "outputs": [],
   "source": [
    "#One Hot Encoding Target Class\n",
    "y_train = pd.get_dummies(y_train).values\n",
    "y_test = pd.get_dummies(y_test).values"
   ]
  },
  {
   "cell_type": "markdown",
   "id": "36fd18f9-a1f1-48db-bbc5-1e652ad767cc",
   "metadata": {},
   "source": [
    "## **2. Logistic Regression Model**"
   ]
  },
  {
   "cell_type": "code",
   "execution_count": 76,
   "id": "d5bd1c03-c403-445c-93b0-e3a7d52e3fd9",
   "metadata": {},
   "outputs": [],
   "source": [
    "class logistic_regression:\n",
    "    def __init__(self, learning_rate=0.01, epochs=10):\n",
    "    \n",
    "        self.learning_rate = learning_rate\n",
    "        self.epochs = epochs\n",
    "\n",
    "        #Weight Initalization\n",
    "        self.num_features = None\n",
    "        self.num_classes = None\n",
    "        self.weights = None\n",
    "\n",
    "        # Initialize lists for tracking losses\n",
    "        self.train_losses = []\n",
    "        self.test_losses = []\n",
    "\n",
    "    # Logistic Regression Functions\n",
    "    def sigmoid(self, z):\n",
    "        return 1 / (1 + np.exp(-z))\n",
    "    \n",
    "    def predict(self, X):\n",
    "        y_pred = self.softmax(np.dot(X, self.weights))\n",
    "        return np.argmax(y_pred, axis=1)\n",
    "    \n",
    "    def log_loss(self, y, y_pred, epsilon=1e-15):\n",
    "        return -np.mean(y * np.log(y_pred + epsilon) + (1 - y) * np.log(1 - y_pred + epsilon))\n",
    "    \n",
    "    def categorical_crossentropy(self, y, y_pred, epsilon=1e-15):\n",
    "        y_pred = np.clip(y_pred, epsilon, 1 - epsilon) \n",
    "        return -np.mean(np.sum(y * np.log(y_pred), axis=1))\n",
    "    \n",
    "    def softmax(self, z):\n",
    "        exp_z = np.exp(z - np.max(z, axis=1, keepdims=True))  \n",
    "        return exp_z / np.sum(exp_z, axis=1, keepdims=True)\n",
    "    \n",
    "    def gradient_descent(self, X, y, weights, lr):\n",
    "        y_pred = self.softmax(np.dot(X, weights))\n",
    "        error = y_pred - y\n",
    "        gradient = np.dot(X.T, error) / len(y)\n",
    "        return weights - lr * gradient\n",
    "\n",
    "\n",
    "    def fit(self, X_train, y_train, X_test=None, y_test=None):\n",
    "        self.num_features = X_train.shape[1]\n",
    "        self.num_classes = y_train.shape[1]\n",
    "        self.weights = np.random.randn(self.num_features, self.num_classes)\n",
    "    \n",
    "        for epoch in range(self.epochs):\n",
    "            # Update Weights\n",
    "            self.weights = self.gradient_descent(X_train, y_train, self.weights, self.learning_rate)\n",
    "\n",
    "            train_pred = self.softmax(np.dot(X_train, self.weights))\n",
    "            train_loss = self.categorical_crossentropy(y_train, train_pred)\n",
    "            self.train_losses.append(train_loss)\n",
    "\n",
    "            if X_test is not None and y_test is not None:\n",
    "                test_pred = self.softmax(np.dot(X_test, self.weights))\n",
    "                test_loss = self.categorical_crossentropy(y_test, test_pred)\n",
    "                self.test_losses.append(test_loss)\n",
    "            else:\n",
    "                test_loss = None\n",
    "\n",
    "            # if epoch % 100 == 0:\n",
    "            print(f\"Epoch {epoch + 1}/{self.epochs}: Train Loss = {train_loss:.4f}, Test Loss = {test_loss:.4f}\")\n"
   ]
  },
  {
   "cell_type": "code",
   "execution_count": 78,
   "id": "28af6838-f812-4302-b4b4-5b8df35c47a3",
   "metadata": {},
   "outputs": [],
   "source": [
    "lr = logistic_regression(learning_rate=0.01, epochs=10)"
   ]
  },
  {
   "cell_type": "code",
   "execution_count": 79,
   "id": "8f423ed5-5f98-4b1d-9360-76e4f46c7b0b",
   "metadata": {},
   "outputs": [
    {
     "name": "stdout",
     "output_type": "stream",
     "text": [
      "Epoch 1/10: Train Loss = 26.2926, Test Loss = 26.2529\n",
      "Epoch 2/10: Train Loss = 25.2833, Test Loss = 25.2147\n",
      "Epoch 3/10: Train Loss = 24.3783, Test Loss = 24.2875\n",
      "Epoch 4/10: Train Loss = 23.6030, Test Loss = 23.5043\n",
      "Epoch 5/10: Train Loss = 22.9535, Test Loss = 22.8453\n",
      "Epoch 6/10: Train Loss = 22.4114, Test Loss = 22.3030\n",
      "Epoch 7/10: Train Loss = 21.9566, Test Loss = 21.8529\n",
      "Epoch 8/10: Train Loss = 21.5715, Test Loss = 21.4738\n",
      "Epoch 9/10: Train Loss = 21.2451, Test Loss = 21.1515\n",
      "Epoch 10/10: Train Loss = 20.9659, Test Loss = 20.8718\n"
     ]
    }
   ],
   "source": [
    "lr.fit(X_train, y_train, X_test, y_test)"
   ]
  },
  {
   "cell_type": "markdown",
   "id": "a48f0711-eff7-4ecd-942f-34b57775ceaa",
   "metadata": {},
   "source": [
    "## **3. Model Evaluation**"
   ]
  },
  {
   "cell_type": "code",
   "execution_count": 92,
   "id": "d57df114-3a5a-4e60-a019-78f575a73468",
   "metadata": {},
   "outputs": [],
   "source": [
    "def confusion_matrix(y_true, y_pred):\n",
    "    \n",
    "    num_classes = y_true.shape[1]\n",
    "    cm = np.zeros((num_classes, num_classes), dtype=int)\n",
    "    y_true_indices = np.argmax(y_true, axis=1)\n",
    "    \n",
    "    for t, p in zip(y_true_indices, y_pred):\n",
    "        cm[t, p] += 1\n",
    "    \n",
    "    return cm\n",
    "\n",
    "def accuracy(y_true, y_pred):\n",
    "    y_true_label = np.argmax(y_true, axis=1)  #Converting one-hot encoded back to label encoded\n",
    "    return np.sum(y_true_label == y_pred) / len(y_true_label)\n",
    "\n",
    "\n",
    "def precision(cm):\n",
    "    \n",
    "    precisions = []\n",
    "    \n",
    "    for i in range(cm.shape[0]):\n",
    "        tp = cm[i, i]\n",
    "        fp = np.sum(cm[:, i]) - tp\n",
    "        if tp + fp > 0:\n",
    "            precisions.append(tp / (tp + fp))\n",
    "        else:\n",
    "            precisions.append(0)\n",
    "    return np.mean(precisions)\n",
    "\n",
    "def recall(cm):\n",
    "    \n",
    "    recalls = []\n",
    "    \n",
    "    for i in range(cm.shape[0]):\n",
    "        tp = cm[i, i]\n",
    "        fn = np.sum(cm[i, :]) - tp\n",
    "        if tp + fn > 0:\n",
    "            recalls.append(tp / (tp + fn))\n",
    "        else:\n",
    "            recalls.append(0)\n",
    "    return np.mean(recalls)\n",
    "\n",
    "def f1_score(cm):\n",
    "    \n",
    "    precisions = precision(cm)\n",
    "    recalls = recall(cm)\n",
    "    \n",
    "    if (precisions + recalls) > 0:\n",
    "        return 2 * (precisions * recalls) / (precisions + recalls) \n",
    "    else:\n",
    "        return 0"
   ]
  },
  {
   "cell_type": "code",
   "execution_count": 96,
   "id": "ae1df027-8f68-48f5-b1b0-a54e62470306",
   "metadata": {},
   "outputs": [
    {
     "name": "stdout",
     "output_type": "stream",
     "text": [
      "\n",
      "Training Metrics:\n",
      "Confusion Matrix:\n",
      " [[  18  166  697 2172  769 1057    0  115    0    6]\n",
      " [  23  331  715 1298  884 1404    0  333    0   12]\n",
      " [  23  423  918 1213 1460  700    1  252    0   10]\n",
      " [  57  389  898 1069 1508  709    2  330    0   38]\n",
      " [  13  418 1215  721 1689  635    0  295    0   14]\n",
      " [  68  355  961  835 1561  820    0  382    0   18]\n",
      " [  15  556  990  859 1540  713    0  309    0   18]\n",
      " [  21  422  834 1448 1258  640    0  371    0    6]\n",
      " [  41  140  697 1671  568 1744    0  115    0   24]\n",
      " [  46  322  569 1710  912 1158    0  282    0    1]]\n",
      "Accuracy: 0.1043\n",
      "Precision: 0.0704\n",
      "Recall: 0.1043\n",
      "F1 Score: 0.0841\n",
      "\n",
      "Validation Metrics:\n",
      "Confusion Matrix:\n",
      " [[  3  34 126 444 158 206   0  27   0   2]\n",
      " [  8  75 126 244 185 285   0  71   0   6]\n",
      " [  3  76 184 233 301 152   0  48   0   3]\n",
      " [ 11  80 183 220 287 146   0  66   0   7]\n",
      " [  1  83 250 153 338 125   0  49   0   1]\n",
      " [ 13  62 195 171 324 159   0  73   0   3]\n",
      " [  2  99 188 172 326 142   0  63   0   8]\n",
      " [ 10  85 182 264 232 149   0  75   0   3]\n",
      " [  8  25 130 312 130 360   0  30   0   5]\n",
      " [ 10  50 117 357 179 228   0  58   0   1]]\n",
      "Accuracy: 0.1055\n",
      "Precision: 0.0729\n",
      "Recall: 0.1055\n",
      "F1 Score: 0.0862\n"
     ]
    }
   ],
   "source": [
    "# Generate predictions for train and test sets\n",
    "train_pred = lr.predict(X_train)\n",
    "\n",
    "\n",
    "# Calculate training metrics\n",
    "train_cm = confusion_matrix(y_train, train_pred)\n",
    "train_accuracy = accuracy(y_train, train_pred)\n",
    "train_precision = precision(train_cm)\n",
    "train_recall = recall(train_cm)\n",
    "train_f1 = f1_score(train_cm)\n",
    "\n",
    "# Print Metrics\n",
    "print(\"\\nTraining Metrics:\")\n",
    "print(\"Confusion Matrix:\\n\", train_cm)\n",
    "print(f\"Accuracy: {train_accuracy:.4f}\")\n",
    "print(f\"Precision: {train_precision:.4f}\")\n",
    "print(f\"Recall: {train_recall:.4f}\")\n",
    "print(f\"F1 Score: {train_f1:.4f}\")\n",
    "\n",
    "\n",
    "test_pred = lr.predict(X_test)\n",
    "\n",
    "test_cm = confusion_matrix(y_test, test_pred)\n",
    "test_accuracy = accuracy(y_test, test_pred)\n",
    "test_precision = precision(test_cm)\n",
    "test_recall = recall(test_cm)\n",
    "test_f1 = f1_score(test_cm)\n",
    "\n",
    "print(\"\\nValidation Metrics:\")\n",
    "print(\"Confusion Matrix:\\n\", test_cm)\n",
    "print(f\"Accuracy: {test_accuracy:.4f}\")\n",
    "print(f\"Precision: {test_precision:.4f}\")\n",
    "print(f\"Recall: {test_recall:.4f}\")\n",
    "print(f\"F1 Score: {test_f1:.4f}\")\n"
   ]
  },
  {
   "cell_type": "markdown",
   "id": "d8f8bb3b-919e-4a87-b4b3-8da6b123fb47",
   "metadata": {},
   "source": [
    "# **4. Loss History**"
   ]
  },
  {
   "cell_type": "code",
   "execution_count": 94,
   "id": "303e00b0-48b4-4166-81cc-b4b1d869583f",
   "metadata": {},
   "outputs": [
    {
     "data": {
      "image/png": "[encoded data removed]",
      "text/plain": [
       "<Figure size 1000x600 with 1 Axes>"
      ]
     },
     "metadata": {},
     "output_type": "display_data"
    }
   ],
   "source": [
    "# Plot epoch vs log-loss\n",
    "epochs = list(range(1, len(lr.train_losses) + 1))\n",
    "\n",
    "plt.figure(figsize=(10, 6))\n",
    "plt.plot(epochs, lr.train_losses, label='Training Loss')\n",
    "plt.plot(epochs, lr.test_losses, label='Validation Loss')\n",
    "\n",
    "plt.title('Epoch vs Mean Log-Loss')\n",
    "plt.xlabel('Epoch')\n",
    "plt.ylabel('Mean Log-Loss')\n",
    "plt.grid(True)\n",
    "plt.legend()\n",
    "plt.show()\n"
   ]
  },
  {
   "cell_type": "code",
   "execution_count": null,
   "id": "e64adfe7-7312-4e63-8c05-25ba65116994",
   "metadata": {},
   "outputs": [],
   "source": []
  },
  {
   "cell_type": "code",
   "execution_count": null,
   "id": "c49efaa2-c003-4a89-8953-4559bf602d78",
   "metadata": {},
   "outputs": [],
   "source": []
  }
 ],
 "metadata": {
  "kernelspec": {
   "display_name": "Python 3 (ipykernel)",
   "language": "python",
   "name": "python3"
  },
  "language_info": {
   "codemirror_mode": {
    "name": "ipython",
    "version": 3
   },
   "file_extension": ".py",
   "mimetype": "text/x-python",
   "name": "python",
   "nbconvert_exporter": "python",
   "pygments_lexer": "ipython3",
   "version": "3.10.12"
  }
 },
 "nbformat": 4,
 "nbformat_minor": 5
}
