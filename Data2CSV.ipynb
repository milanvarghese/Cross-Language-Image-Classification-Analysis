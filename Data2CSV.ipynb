{
 "cells": [
  {
   "cell_type": "code",
   "execution_count": 26,
   "id": "b95b2086-b296-4f7c-9aba-6ff12198ee92",
   "metadata": {},
   "outputs": [],
   "source": [
    "import os\n",
    "import numpy as np\n",
    "import pandas as pd\n",
    "import pickle"
   ]
  },
  {
   "cell_type": "code",
   "execution_count": 27,
   "id": "bd394517-c0af-4839-a5ed-db0c0a3f3237",
   "metadata": {},
   "outputs": [],
   "source": [
    "def unpickle(file):\n",
    "    with open(file, 'rb') as fo:\n",
    "        dict_file = pickle.load(fo, encoding='bytes')\n",
    "    return {'labels': dict_file[b'labels'], 'data': dict_file[b'data']}"
   ]
  },
  {
   "cell_type": "code",
   "execution_count": 28,
   "id": "e9b0d739-2b07-4ef2-bda2-6e4c28efc1b0",
   "metadata": {},
   "outputs": [],
   "source": [
    "train_batches = pd.DataFrame([])\n",
    "for batch in range(1,6):\n",
    "    batch_data = unpickle(f\"./data/cifar-10-python/cifar-10-batches-py/data_batch_{batch}\")\n",
    "    temp_df = pd.DataFrame({'labels': batch_data['labels'], 'data': [np.array(row) for row in batch_data['data']]})\n",
    "    train_batches = pd.concat([train_batches, temp_df], ignore_index=True)"
   ]
  },
  {
   "cell_type": "code",
   "execution_count": 33,
   "id": "7ca6f26b-9e24-48b1-8d00-a481305647b8",
   "metadata": {},
   "outputs": [],
   "source": [
    "train_batches.to_csv(\"data/train.csv\")"
   ]
  },
  {
   "cell_type": "code",
   "execution_count": 29,
   "id": "d53625d1-1b7e-4c8c-b7c7-7a954d5f32f7",
   "metadata": {},
   "outputs": [],
   "source": [
    "test_batch = unpickle(f\"./data/cifar-10-python/cifar-10-batches-py/test_batch\")\n",
    "test_batch = pd.DataFrame({'labels': test_batch['labels'], 'data': [np.array(row) for row in test_batch['data']]})"
   ]
  },
  {
   "cell_type": "code",
   "execution_count": 34,
   "id": "02a37ec9-62cc-4e2d-af30-8c12817cb031",
   "metadata": {},
   "outputs": [],
   "source": [
    "test_batch.to_csv(\"data/test.csv\")"
   ]
  }
 ],
 "metadata": {
  "kernelspec": {
   "display_name": "Python 3 (ipykernel)",
   "language": "python",
   "name": "python3"
  },
  "language_info": {
   "codemirror_mode": {
    "name": "ipython",
    "version": 3
   },
   "file_extension": ".py",
   "mimetype": "text/x-python",
   "name": "python",
   "nbconvert_exporter": "python",
   "pygments_lexer": "ipython3",
   "version": "3.10.12"
  }
 },
 "nbformat": 4,
 "nbformat_minor": 5
}
